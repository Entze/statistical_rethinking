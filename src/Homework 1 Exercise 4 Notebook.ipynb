{
 "cells": [
  {
   "cell_type": "markdown",
   "id": "06d8b118",
   "metadata": {},
   "source": [
    "# Homework 1 Exercise 4\n",
    "Suppose there is bias in sampling so that Land is more likely than Water to be recorded. Specifically, assume that 1-in-5 (20%) of Water samples are accidentally recorded instead as ”Land”. First, write a generative simulation of this sampling process. Assuming the true proportion of Water is 0.70, what proportion does your simulation tend to produce instead? Second, using a simulated sample of 20 tosses, compute the unbiased posterior distribution of the true proportion of water."
   ]
  },
  {
   "cell_type": "code",
   "execution_count": null,
   "id": "ff32ccd0",
   "metadata": {},
   "outputs": [],
   "source": [
    "using StatsPlots\n",
    "using StatisticalRethinking: hpdi, PI\n",
    "using Gen, Distributions"
   ]
  },
  {
   "cell_type": "markdown",
   "id": "200d67c6",
   "metadata": {},
   "source": [
    "## First solution (only Distributions.jl)"
   ]
  },
  {
   "cell_type": "code",
   "execution_count": null,
   "id": "ba277bab",
   "metadata": {},
   "outputs": [],
   "source": [
    "samples = 20"
   ]
  },
  {
   "cell_type": "code",
   "execution_count": null,
   "id": "5aa05e6b",
   "metadata": {},
   "outputs": [],
   "source": [
    "true_water_distribution = Binomial(samples, 0.7)\n",
    "true_water = rand(true_water_distribution)"
   ]
  },
  {
   "cell_type": "code",
   "execution_count": null,
   "id": "6a0d6565",
   "metadata": {},
   "outputs": [],
   "source": [
    "recorded_water_distribution = Binomial(true_water, 0.8)\n",
    "recorded_water = rand(recorded_water_distribution)"
   ]
  },
  {
   "cell_type": "markdown",
   "id": "619c9053",
   "metadata": {},
   "source": [
    "## Second solution (Distributions.jl brevity)"
   ]
  },
  {
   "cell_type": "code",
   "execution_count": null,
   "id": "580a191c",
   "metadata": {},
   "outputs": [],
   "source": [
    "water_distribution = Binomial(samples, 0.7 * 0.8)\n",
    "water = rand(water_distribution)"
   ]
  },
  {
   "cell_type": "markdown",
   "id": "d75276de",
   "metadata": {},
   "source": [
    "## Third solution (Gen.jl Bernoulli)"
   ]
  },
  {
   "cell_type": "code",
   "execution_count": null,
   "id": "608f7c12",
   "metadata": {},
   "outputs": [],
   "source": [
    "@gen function problem4_bernoulli_model(samples=samples, water_proportion=0.7, bias=0.8)\n",
    "    true_toss ~ bernoulli(water_proportion)\n",
    "    no_mistake ~ bernoulli(bias)\n",
    "    recorded_toss_probability = Float64(true_toss && no_mistake)\n",
    "    recorded_toss ~ bernoulli(recorded_toss_probability)\n",
    "    return recorded_toss\n",
    "end"
   ]
  },
  {
   "cell_type": "code",
   "execution_count": null,
   "id": "ca097b65",
   "metadata": {},
   "outputs": [],
   "source": [
    "trace = Gen.simulate(problem4_bernoulli_model, ())\n",
    "Gen.get_choices(trace)"
   ]
  },
  {
   "cell_type": "markdown",
   "id": "0ea11d7f",
   "metadata": {},
   "source": [
    "## Fourth solution (Gen.jl Binomial)"
   ]
  },
  {
   "cell_type": "code",
   "execution_count": null,
   "id": "b2c73b03",
   "metadata": {},
   "outputs": [],
   "source": [
    "@gen function problem4_binomial_model(samples=samples, water_proportion=0.7, bias=0.8)\n",
    "    true_water ~ binom(samples, water_proportion)\n",
    "    recorded_water ~ binom(true_water, bias)\n",
    "    return recorded_water\n",
    "end"
   ]
  },
  {
   "cell_type": "code",
   "execution_count": null,
   "id": "6effe5a1",
   "metadata": {},
   "outputs": [],
   "source": [
    "trace = Gen.simulate(problem4_binomial_model,())\n",
    "Gen.get_choices(trace)"
   ]
  },
  {
   "cell_type": "markdown",
   "id": "739c67e6",
   "metadata": {},
   "source": [
    "## Fifth solution (Gen.jl Binomial Brevity)"
   ]
  },
  {
   "cell_type": "code",
   "execution_count": null,
   "id": "041152b4",
   "metadata": {},
   "outputs": [],
   "source": [
    "@gen function problem4_binomial_brevity_model(samples=samples, water_proportion=0.7, bias=0.8)\n",
    "    recorded_water ~ binom(samples, water_proportion * bias)\n",
    "    return recorded_water\n",
    "end"
   ]
  },
  {
   "cell_type": "code",
   "execution_count": null,
   "id": "f0494022",
   "metadata": {},
   "outputs": [],
   "source": [
    "trace = Gen.simulate(problem4_binomial_brevity_model,())\n",
    "Gen.get_choices(trace)"
   ]
  },
  {
   "cell_type": "markdown",
   "id": "f59fcb20",
   "metadata": {},
   "source": [
    "## Calculating the true posterior"
   ]
  },
  {
   "cell_type": "code",
   "execution_count": null,
   "id": "4785dccd",
   "metadata": {},
   "outputs": [],
   "source": [
    "tosses = 20\n",
    "grid_length = 100\n",
    "recorded_water = rand(Binomial(tosses, 0.7 * 0.8))\n",
    "grid_p = Vector{Float64}(range(0, 1, length=grid_length))\n",
    "prior = ones(grid_length)\n",
    "probability_water = pdf.(Binomial.(tosses, grid_p .* 0.8), water)\n",
    "posterior = probability_water .* prior\n",
    "posterior_bad = pdf.(Binomial.(tosses, grid_p), water) # does not correct for bias\n",
    "recorded_water"
   ]
  },
  {
   "cell_type": "code",
   "execution_count": null,
   "id": "3ae82f79",
   "metadata": {},
   "outputs": [],
   "source": [
    "plot(grid_p, [(prior ./ sum(prior)) posterior_bad posterior], title=\"Posteriors\", xlabel=\"proportion water\", ylabel=\"plausibility\", labels=[\"prior\" \"posterior (wrong)\" \"posterior\"], legend=:left)"
   ]
  },
  {
   "cell_type": "code",
   "execution_count": null,
   "id": "2b6db334",
   "metadata": {},
   "outputs": [],
   "source": []
  }
 ],
 "metadata": {
  "@webio": {
   "lastCommId": null,
   "lastKernelId": null
  },
  "kernelspec": {
   "display_name": "Julia 1.7.1",
   "language": "julia",
   "name": "julia-1.7"
  },
  "language_info": {
   "file_extension": ".jl",
   "mimetype": "application/julia",
   "name": "julia",
   "version": "1.7.1"
  }
 },
 "nbformat": 4,
 "nbformat_minor": 5
}
